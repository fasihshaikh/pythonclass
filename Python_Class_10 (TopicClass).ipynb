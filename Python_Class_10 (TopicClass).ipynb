{
 "cells": [
  {
   "cell_type": "markdown",
   "metadata": {},
   "source": [
    "## 9-5. Login Attempts: \n",
    "Add an attribute called login_attempts to your User class from Exercise 9-3 (page 166) . Write a method called increment_ login_attempts() that increments the value of login_attempts by 1 . Write another method called reset_login_attempts() that resets the value of login_ attempts to 0 . Make an instance of the User class and call increment_login_attempts() several times . \n",
    "Print the value of login_attempts to make sure it was incremented properly, and then call reset_login_attempts() . Print login_attempts again to make sure it was reset to 0 ."
   ]
  },
  {
   "cell_type": "code",
   "execution_count": 1,
   "metadata": {},
   "outputs": [],
   "source": [
    "class User():\n",
    "    def __init__(self,name,fname,gender,email):\n",
    "        self.name=name\n",
    "        self.fname=fname\n",
    "        self.gender=gender\n",
    "        self.email=email\n",
    "        self.loginAttempts=0\n",
    "    def greetUser(self):\n",
    "        print(f\"Welcome User: {self.name}\")\n",
    "    def setIncrementLoginAttempts(self,attempts):\n",
    "        self.loginAttempts += attempts\n",
    "    def getLoginAttempts(self):\n",
    "        print(f\"{self.name} has made {self.loginAttempts} attempts\")\n",
    "    def describeUser(self):\n",
    "        print(f\"\")"
   ]
  },
  {
   "cell_type": "code",
   "execution_count": null,
   "metadata": {},
   "outputs": [],
   "source": []
  }
 ],
 "metadata": {
  "kernelspec": {
   "display_name": "Python 3",
   "language": "python",
   "name": "python3"
  },
  "language_info": {
   "codemirror_mode": {
    "name": "ipython",
    "version": 3
   },
   "file_extension": ".py",
   "mimetype": "text/x-python",
   "name": "python",
   "nbconvert_exporter": "python",
   "pygments_lexer": "ipython3",
   "version": "3.7.3"
  }
 },
 "nbformat": 4,
 "nbformat_minor": 2
}
