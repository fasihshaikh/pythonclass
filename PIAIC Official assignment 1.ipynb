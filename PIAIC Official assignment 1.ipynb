{
 "cells": [
  {
   "cell_type": "markdown",
   "metadata": {},
   "source": [
    "## 1. Calculate Area of a Circle"
   ]
  },
  {
   "cell_type": "markdown",
   "metadata": {},
   "source": [
    "#### Write a Python program which accepts the radius of a circle from the user and compute the area.\n",
    "###### Program Console Sample Output 1:\n",
    "###### Input Radius: 0.5\n",
    "###### Area of Circle with radius 0.5 is 0.7853981634"
   ]
  },
  {
   "cell_type": "code",
   "execution_count": 8,
   "metadata": {},
   "outputs": [
    {
     "name": "stdout",
     "output_type": "stream",
     "text": [
      "Input Radius: 0.5\n",
      "Area of Circle with radius 0.5 is 0.7853981634\n"
     ]
    }
   ],
   "source": [
    "import math\n",
    "radius = float(input(\"Input Radius: \"))\n",
    "area = math.pi*(radius**2)\n",
    "area = float(round(area,10))\n",
    "print (f\"Area of Circle with radius {radius} is {area}\")"
   ]
  },
  {
   "cell_type": "markdown",
   "metadata": {},
   "source": [
    "## 2. Check Number either positive, negative or zero"
   ]
  },
  {
   "cell_type": "markdown",
   "metadata": {},
   "source": [
    "#### Write a Python program to check if a number is positive, negative or zero\n",
    "###### Program Console Sample Output 1:\n",
    "###### Enter Number: -1\n",
    "##### Negative Number Entered\n",
    "###### Program Console Sample Output 2:\n",
    "##### Integer: 3\n",
    "##### Positive Number Entered\n",
    "###### Program Console Sample Output 3:\n",
    "##### Integer: 0\n",
    "###### Zero Entered"
   ]
  },
  {
   "cell_type": "code",
   "execution_count": 13,
   "metadata": {},
   "outputs": [
    {
     "name": "stdout",
     "output_type": "stream",
     "text": [
      "Enter Numner: -1\n",
      "Negative Number Entered\n"
     ]
    }
   ],
   "source": [
    "num = int(input(\"Enter Numner: \"))\n",
    "if num < 0:\n",
    "    print(\"Negative Number Entered\")\n",
    "elif num > 0:\n",
    "    print(\"Positve Number Entered\")\n",
    "else :\n",
    "    print(\"Zero Entered\")"
   ]
  },
  {
   "cell_type": "code",
   "execution_count": 1,
   "metadata": {},
   "outputs": [
    {
     "name": "stdout",
     "output_type": "stream",
     "text": [
      "Integer: 3\n",
      "Positve Number Entered\n"
     ]
    }
   ],
   "source": [
    "num = int(input(\"Integer: \"))\n",
    "if num < 0:\n",
    "    print(\"Negative Number Entered\")\n",
    "elif num > 0:\n",
    "    print(\"Positve Number Entered\")\n",
    "else :\n",
    "    print(\"Zero Entered\")"
   ]
  },
  {
   "cell_type": "code",
   "execution_count": 2,
   "metadata": {},
   "outputs": [
    {
     "name": "stdout",
     "output_type": "stream",
     "text": [
      "Integer: 0\n",
      "Zero Entered\n"
     ]
    }
   ],
   "source": [
    "num = int(input(\"Integer: \"))\n",
    "if num < 0:\n",
    "    print(\"Negative Number Entered\")\n",
    "elif num > 0:\n",
    "    print(\"Positve Number Entered\")\n",
    "else :\n",
    "    print(\"Zero Entered\")"
   ]
  },
  {
   "cell_type": "markdown",
   "metadata": {},
   "source": [
    "## 3. Divisibility Check of two numbers"
   ]
  },
  {
   "cell_type": "markdown",
   "metadata": {},
   "source": [
    "#### Write a Python program to check whether a number is completely divisible by another number. Accept two integer values form the user\n",
    "##### Program Console Sample Output 1:\n",
    "###### Enter numerator: 4\n",
    "###### Enter Denominator: 2\n",
    "##### Number 4 is Completely divisible by 2\n",
    "###### Program Console Sample Output 2:\n",
    "##### Enter numerator: 7\n",
    "\n",
    "##### Enter Denominator: 4\n",
    "###### Number 7 is not Completely divisible by 4"
   ]
  },
  {
   "cell_type": "code",
   "execution_count": 3,
   "metadata": {},
   "outputs": [
    {
     "name": "stdout",
     "output_type": "stream",
     "text": [
      "Enter numerator: 4\n",
      "Enter Denominator: 2\n",
      "Number 4 is completely divisible by 2\n"
     ]
    }
   ],
   "source": [
    "num1 = int(input(\"Enter numerator: \"))\n",
    "num2 = int(input(\"Enter Denominator: \"))\n",
    "if num1 % num2 == 0:\n",
    "    print (f\"Number {num1} is completely divisible by {num2}\")\n",
    "else:\n",
    "    print (f\"Number {num1} is not completely divisible by {num2}\")"
   ]
  },
  {
   "cell_type": "code",
   "execution_count": 4,
   "metadata": {},
   "outputs": [
    {
     "name": "stdout",
     "output_type": "stream",
     "text": [
      "Enter numerator: 7\n",
      "Enter Denominator: 4\n",
      "Number 7 is not completely divisible by 4\n"
     ]
    }
   ],
   "source": [
    "num1 = int(input(\"Enter numerator: \"))\n",
    "num2 = int(input(\"Enter Denominator: \"))\n",
    "if num1 % num2 == 0:\n",
    "    print (f\"Number {num1} is completely divisible by {num2}\")\n",
    "else:\n",
    "    print (f\"Number {num1} is not completely divisible by {num2}\")"
   ]
  },
  {
   "cell_type": "markdown",
   "metadata": {},
   "source": [
    "## 4. Calculate Volume of a sphere"
   ]
  },
  {
   "cell_type": "markdown",
   "metadata": {},
   "source": [
    "##### Write a Python program to get the volume of a sphere, please take the radius as input from user"
   ]
  },
  {
   "cell_type": "markdown",
   "metadata": {},
   "source": [
    "##### Program Console Output:\n",
    "##### Enter Radius of Sphere: 1\n",
    "###### Volume of the Sphere with Radius 1 is 4.18"
   ]
  },
  {
   "cell_type": "code",
   "execution_count": 12,
   "metadata": {},
   "outputs": [
    {
     "name": "stdout",
     "output_type": "stream",
     "text": [
      "Input Radius: 1\n",
      "Volume of the Sphere with Radius 1 is 4.1887902047863905\n"
     ]
    }
   ],
   "source": [
    "import math\n",
    "radius = int(input(\"Input Radius: \"))\n",
    "volume = (4/3)*math.pi*(radius**3)\n",
    "volume = float((volume))\n",
    "print (f\"Volume of the Sphere with Radius {radius} is {volume}\")"
   ]
  },
  {
   "cell_type": "markdown",
   "metadata": {},
   "source": [
    "## 5. Copy string n times\n",
    "#### Write a Python program to get a string which is n (non-negative integer) copies of a given string.\n",
    "##### Program Console Output:\n",
    "##### Enter String: Hi\n",
    "###### How many copies of String you need: 4\n",
    "###### 4 Copies of Hi are HiHiHiHi"
   ]
  },
  {
   "cell_type": "code",
   "execution_count": 18,
   "metadata": {},
   "outputs": [
    {
     "name": "stdout",
     "output_type": "stream",
     "text": [
      "Enter String: Hi\n",
      "How many copies of String you need: 4\n",
      "4 Copies of Hi are HiHiHiHi\n"
     ]
    }
   ],
   "source": [
    "string = input(\"Enter String: \")\n",
    "copies = int(input(\"How many copies of String you need: \"))\n",
    "print (f\"{copies} Copies of {string} are \"+ string*copies)"
   ]
  },
  {
   "cell_type": "markdown",
   "metadata": {},
   "source": [
    "## 6. Check if number is Even or Odd\n",
    "### Write a Python program to find whether a given number (accept from the user) is even or odd, print out an appropriate message to the user\n",
    "#### Program Console Output 1:\n",
    "##### Enter Number: 4\n",
    "###### 4 is Even\n",
    "#### Program Console Output 2:\n",
    "##### Enter Number: 9\n",
    "###### 9 is Odd"
   ]
  },
  {
   "cell_type": "code",
   "execution_count": 19,
   "metadata": {},
   "outputs": [
    {
     "name": "stdout",
     "output_type": "stream",
     "text": [
      "Enter Number: 4\n",
      "4 is Even\n"
     ]
    }
   ],
   "source": [
    "num1 = int(input(\"Enter Number: \"))\n",
    "if num1 % 2 == 0:\n",
    "    print(f\"{num1} is Even\")\n",
    "else :\n",
    "    print(f\"{num1} is Odd\")"
   ]
  },
  {
   "cell_type": "code",
   "execution_count": 20,
   "metadata": {},
   "outputs": [
    {
     "name": "stdout",
     "output_type": "stream",
     "text": [
      "Enter Number: 9\n",
      "9 is Odd\n"
     ]
    }
   ],
   "source": [
    "num1 = int(input(\"Enter Number: \"))\n",
    "if num1 % 2 == 0:\n",
    "    print(f\"{num1} is Even\")\n",
    "else :\n",
    "    print(f\"{num1} is Odd\")"
   ]
  },
  {
   "cell_type": "markdown",
   "metadata": {},
   "source": [
    "## 7. Vowel Tester\n",
    "### Write a Python program to test whether a passed letter is a vowel or not\n",
    "#### Program Console Output 1:\n",
    "##### Enter a character: A\n",
    "###### Letter A is Vowel\n",
    "#### Program Console Output 2:\n",
    "##### Enter a character: e\n",
    "###### Letter e is Vowel\n",
    "#### Program Console Output 2:\n",
    "##### Enter a character: N\n",
    "###### Letter N is not Vowel"
   ]
  },
  {
   "cell_type": "code",
   "execution_count": 49,
   "metadata": {},
   "outputs": [
    {
     "name": "stdout",
     "output_type": "stream",
     "text": [
      "Enter a character: A\n",
      "Letter A is Vowel\n"
     ]
    }
   ],
   "source": [
    "#Basic method\n",
    "vow = input(\"Enter a character: \")\n",
    "if vow == 'a' or vow==\"A\":\n",
    "    print(f\"Letter {vow} is Vowel\")\n",
    "elif vow == 'e'or vow==\"E\":\n",
    "    print(f\"Letter {vow} is Vowel\")\n",
    "elif vow == 'i'or vow==\"I\":\n",
    "    print(f\"Letter {vow} is Vowel\")\n",
    "elif vow == 'o'or vow==\"O\":\n",
    "    print(f\"Letter {vow} is Vowel\")\n",
    "elif vow == 'u'or vow==\"U\":\n",
    "    print(f\"Letter {vow} is Vowel\")\n",
    "else:\n",
    "    print(f\"Letter {vow} is not Vowel\")"
   ]
  },
  {
   "cell_type": "code",
   "execution_count": 50,
   "metadata": {},
   "outputs": [
    {
     "name": "stdout",
     "output_type": "stream",
     "text": [
      "Enter a character: e\n",
      "Letter e is Vowel\n"
     ]
    }
   ],
   "source": [
    "#Short Method\n",
    "vow = input(\"Enter a character: \")\n",
    "if vow == 'a' or vow=='e'or vow=='i' or vow=='o' or vow=='u'or vow =='A' or vow=='E'or vow=='I' or vow=='O' or vow=='U':\n",
    "    print(f\"Letter {vow} is Vowel\")\n",
    "else:\n",
    "    print(f\"Letter {vow} is not Vowel\")"
   ]
  },
  {
   "cell_type": "code",
   "execution_count": 51,
   "metadata": {},
   "outputs": [
    {
     "name": "stdout",
     "output_type": "stream",
     "text": [
      "Enter a character: N\n",
      "Letter N is not Vowel\n"
     ]
    }
   ],
   "source": [
    "vow = input(\"Enter a character: \")\n",
    "if vow == 'a' or vow=='e'or vow=='i' or vow=='o' or vow=='u'or vow =='A' or vow=='E'or vow=='I' or vow=='O' or vow=='U':\n",
    "    print(f\"Letter {vow} is Vowel\")\n",
    "else:\n",
    "    print(f\"Letter {vow} is not Vowel\")"
   ]
  },
  {
   "cell_type": "markdown",
   "metadata": {},
   "source": [
    "## 8. Triangle area\n",
    "### Write a Python program that will accept the base and height of a triangle and compute the area\n",
    "###### Reference:\n",
    "https://www.mathgoodies.com/lessons/vol1/area_triangle"
   ]
  },
  {
   "cell_type": "code",
   "execution_count": 53,
   "metadata": {},
   "outputs": [
    {
     "name": "stdout",
     "output_type": "stream",
     "text": [
      "Enter Base of Triangle: 15\n",
      "Enter Height of Triangle: 4\n",
      "Area of Triangle with Base 15 and Height 4 is: 30.0\n"
     ]
    }
   ],
   "source": [
    "base = int(input(\"Enter Base of Triangle: \"))\n",
    "height = int(input(\"Enter Height of Triangle: \"))\n",
    "area = base*height/2\n",
    "print(f\"Area of Triangle with Base {base} and Height {height} is: {area}\")"
   ]
  },
  {
   "cell_type": "markdown",
   "metadata": {},
   "source": [
    "## 9. Calculate Interest\n",
    "### Write a Python program to compute the future value of a specified principal amount, rate of interest, and a number of years\n",
    "#### Program Console Sample 1:\n",
    "##### Please enter principal amount: 10000\n",
    "###### Please Enter Rate of interest in %: 0.1\n",
    "###### Enter number of years for investment: 5\n",
    "###### After 5 years your principal amount 10000 over an interest rate of 0.1 % will be 16105.1"
   ]
  },
  {
   "cell_type": "code",
   "execution_count": 57,
   "metadata": {},
   "outputs": [
    {
     "name": "stdout",
     "output_type": "stream",
     "text": [
      "Please enter principal amount: 10000\n",
      "Please enter Rate of interest in %: 0.1\n",
      "Enter number of years for investment: 5\n",
      "After 5 years your principal amount 10000 over an interest rate of 0.1 % will be 16105.1\n"
     ]
    }
   ],
   "source": [
    "prnamt = int(input(\"Please enter principal amount: \"))\n",
    "rtint = float(input(\"Please enter Rate of interest in %: \"))\n",
    "years = int(input(\"Enter number of years for investment: \"))\n",
    "futval = prnamt*(1+rtint)**years\n",
    "futval=round(futval,1)\n",
    "print(f\"After {years} years your principal amount {prnamt} over an interest rate of {rtint} % will be {futval}\")"
   ]
  },
  {
   "cell_type": "markdown",
   "metadata": {},
   "source": [
    "## 10. Euclidean distance\n",
    "### write a Python program to compute the distance between the points (x1, y1) and (x2, y2).\n",
    "#### Program Console Sample 1:\n",
    "###### Enter Co-ordinate for x1: 2\n",
    "###### Enter Co-ordinate for x2: 4\n",
    "###### Enter Co-ordinate for y1: 4\n",
    "###### Enter Co-ordinate for y2: 4\n",
    "###### Distance between points (2, 4) and (4, 4) is 2"
   ]
  },
  {
   "cell_type": "markdown",
   "metadata": {},
   "source": [
    "###### Reference:\n",
    "https://en.wikipedia.org/wiki/Euclidean_distance"
   ]
  },
  {
   "cell_type": "code",
   "execution_count": 2,
   "metadata": {},
   "outputs": [
    {
     "name": "stdout",
     "output_type": "stream",
     "text": [
      "Enter Co-ordinate for x1: 2\n",
      "Enter Co-ordinate for x2: 4\n",
      "Enter Co-ordinate for y1: 4\n",
      "Enter Co-ordinate for y2: 4\n",
      "Distance between points (2, 4) and (4, 4) is 2\n"
     ]
    }
   ],
   "source": [
    "x1 = int(input(\"Enter Co-ordinate for x1: \"))\n",
    "x2 = int(input(\"Enter Co-ordinate for x2: \"))\n",
    "y1 = int(input(\"Enter Co-ordinate for y1: \"))\n",
    "y2 = int(input(\"Enter Co-ordinate for y2: \"))\n",
    "distance = ((x2-x1)**2 + (y2-y1)**2)**0.5\n",
    "distance=round(distance)\n",
    "print(f\"Distance between points ({x1}, {x2}) and ({y1}, {y2}) is {distance}\")"
   ]
  },
  {
   "cell_type": "markdown",
   "metadata": {},
   "source": [
    "## 11. Feet to Centimeter Converter\n",
    "### Write a Python program to convert height in feet to centimetres.\n",
    "##### Program Console Sample 1:\n",
    "###### Enter Height in Feet: 5\n",
    "###### There are 152.4 Cm in 5 ft\n",
    "###### Reference:\n",
    "https://www.rapidtables.com/convert/length/feet-to-cm.html"
   ]
  },
  {
   "cell_type": "code",
   "execution_count": 3,
   "metadata": {},
   "outputs": [
    {
     "name": "stdout",
     "output_type": "stream",
     "text": [
      "Enter Height in Feet: 5\n",
      "There are 152.4 Cm in 5 ft\n"
     ]
    }
   ],
   "source": [
    "feet=int(input(\"Enter Height in Feet: \"))\n",
    "cal=feet*30.48\n",
    "print(f\"There are {cal} Cm in {feet} ft\")"
   ]
  },
  {
   "cell_type": "markdown",
   "metadata": {},
   "source": [
    "## 12. BMI Calculator\n",
    "### Write a Python program to calculate body mass index\n",
    "##### Program Console Sample 1:\n",
    "###### Enter Height in Cm: 180\n",
    "###### Enter Weight in Kg: 75\n",
    "###### Your BMI is 23.15"
   ]
  },
  {
   "cell_type": "code",
   "execution_count": 5,
   "metadata": {},
   "outputs": [
    {
     "name": "stdout",
     "output_type": "stream",
     "text": [
      "Enter Height in Cm: 180\n",
      "Enter Weight in Kg: 75\n",
      "Your BMI is 23.15\n"
     ]
    }
   ],
   "source": [
    "height=int(input(\"Enter Height in Cm: \"))\n",
    "weight=int(input(\"Enter Weight in Kg: \"))\n",
    "#The formula is BMI = kg/m2 where kg is a person’s weight in kilograms and m2 is their height in metres squared.\n",
    "bmi=weight/(height*0.01)**2\n",
    "bmi=round(bmi,2)\n",
    "print(f\"Your BMI is {bmi}\")\n"
   ]
  },
  {
   "cell_type": "markdown",
   "metadata": {},
   "source": [
    "## 13. Sum of n Positive Integers\n",
    "### Write a python program to sum of the first n positive integers\n",
    "#### Program Console Sample 1:\n",
    "###### Enter value of n: 5\n",
    "###### Sum of n Positive integers till 5 is 15"
   ]
  },
  {
   "cell_type": "code",
   "execution_count": 2,
   "metadata": {},
   "outputs": [
    {
     "name": "stdout",
     "output_type": "stream",
     "text": [
      "Enter value of n: 5\n",
      "Sum of n Positive integers till 5 is 15\n"
     ]
    }
   ],
   "source": [
    "n=int(input(\"Enter value of n: \"))\n",
    "s_n = (n * (n + 1)) / 2\n",
    "s_n=round(s_n)\n",
    "print(f\"Sum of n Positive integers till {n} is {s_n}\")"
   ]
  },
  {
   "cell_type": "markdown",
   "metadata": {},
   "source": [
    "## 14. Digits Sum of a Number\n",
    "### Write a Python program to calculate the sum of the digits in an integer\n",
    "#### Program Console Sample 1:\n",
    "##### Enter a number: 15\n",
    "###### Sum of 1 + 5 is 6\n",
    "#### Program Console Sample 2:\n",
    "##### Enter a number: 1234\n",
    "###### Sum of 1 + 2 + 3 + 4 is 10"
   ]
  },
  {
   "cell_type": "code",
   "execution_count": 23,
   "metadata": {},
   "outputs": [
    {
     "name": "stdout",
     "output_type": "stream",
     "text": [
      "Enter a number: 15\n",
      "Sum of 1 + 5 is 6\n"
     ]
    }
   ],
   "source": [
    "num=int(input(\"Enter a number: \"))\n",
    "sum=0\n",
    "digits=[]\n",
    "while(num>0):\n",
    "    dig=num%10\n",
    "    sum=sum+dig\n",
    "    digits.append(dig)\n",
    "    num=num//10\n",
    "print(f\"Sum of \",end=\"\")\n",
    "for digit in reversed(digits):\n",
    "    if digit is digits[0]:\n",
    "        st = \" \"\n",
    "    else:\n",
    "        st = \" + \"\n",
    "    print(digit, end=st)\n",
    "print(\"is\", sum)"
   ]
  }
 ],
 "metadata": {
  "kernelspec": {
   "display_name": "Python 3",
   "language": "python",
   "name": "python3"
  },
  "language_info": {
   "codemirror_mode": {
    "name": "ipython",
    "version": 3
   },
   "file_extension": ".py",
   "mimetype": "text/x-python",
   "name": "python",
   "nbconvert_exporter": "python",
   "pygments_lexer": "ipython3",
   "version": "3.7.3"
  }
 },
 "nbformat": 4,
 "nbformat_minor": 2
}
