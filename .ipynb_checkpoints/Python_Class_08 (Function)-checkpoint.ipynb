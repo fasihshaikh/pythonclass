{
 "cells": [
  {
   "cell_type": "markdown",
   "metadata": {},
   "source": [
    "# Function"
   ]
  },
  {
   "cell_type": "code",
   "execution_count": 1,
   "metadata": {},
   "outputs": [
    {
     "name": "stdout",
     "output_type": "stream",
     "text": [
      "17\n"
     ]
    }
   ],
   "source": [
    "def cal(a,b):\n",
    "    c=a+b\n",
    "    print(c)\n",
    "cal(9,8)"
   ]
  },
  {
   "cell_type": "code",
   "execution_count": 2,
   "metadata": {},
   "outputs": [
    {
     "name": "stdout",
     "output_type": "stream",
     "text": [
      "15\n"
     ]
    }
   ],
   "source": [
    "def cal1(a,b):\n",
    "    c1=a+b\n",
    "    return c1\n",
    "a1 = cal1(9,6)\n",
    "print(a1)"
   ]
  },
  {
   "cell_type": "code",
   "execution_count": 7,
   "metadata": {},
   "outputs": [
    {
     "name": "stdout",
     "output_type": "stream",
     "text": [
      "Hello umer\n",
      "Hello hamza\n",
      "Hello azhar\n"
     ]
    }
   ],
   "source": [
    "def name1(friends):\n",
    "    for friend in friends:\n",
    "        a=(f\"Hello {friend}\")\n",
    "        print(a)\n",
    "name1 (['umer','hamza','azhar'])"
   ]
  },
  {
   "cell_type": "code",
   "execution_count": 9,
   "metadata": {},
   "outputs": [
    {
     "name": "stdout",
     "output_type": "stream",
     "text": [
      "Hello umer\n",
      "Hello hamza\n",
      "Hello azhar\n"
     ]
    }
   ],
   "source": [
    "def name1(friends):\n",
    "    for friend in friends:\n",
    "        a=\"Hello \" + friend\n",
    "        print(a)\n",
    "name1 (['umer','hamza','azhar'])"
   ]
  },
  {
   "cell_type": "markdown",
   "metadata": {},
   "source": [
    "# KEYWORD PERAMETER"
   ]
  },
  {
   "cell_type": "code",
   "execution_count": 12,
   "metadata": {},
   "outputs": [
    {
     "name": "stdout",
     "output_type": "stream",
     "text": [
      "My name is Moiz and my father name is Shahzad\n"
     ]
    }
   ],
   "source": [
    "def family(my_name,f_name):\n",
    "    print(f\"My name is {my_name} and my father name is {f_name}\")\n",
    "family('Moiz' ,\"Shahzad\") # first value is father name , second value is my name"
   ]
  },
  {
   "cell_type": "code",
   "execution_count": 13,
   "metadata": {},
   "outputs": [
    {
     "name": "stdout",
     "output_type": "stream",
     "text": [
      "My name is Shahzad and my father name is Moiz\n"
     ]
    }
   ],
   "source": [
    "#keyword argument applied\n",
    "def family(my_name,f_name):\n",
    "    print(f\"My name is {my_name} and my father name is {f_name}\")\n",
    "family(f_name='Moiz' ,my_name=\"Shahzad\")"
   ]
  },
  {
   "cell_type": "code",
   "execution_count": 14,
   "metadata": {},
   "outputs": [
    {
     "name": "stdout",
     "output_type": "stream",
     "text": [
      "My name is Fasih, my age is 24 and i am a Male \n"
     ]
    }
   ],
   "source": [
    "def myfunc(name,age,gender):\n",
    "    print(f\"My name is {name}, my age is {age} and i am a {gender} \")\n",
    "myfunc(name=\"Fasih\",age=\"24\",gender=\"Male\")"
   ]
  },
  {
   "cell_type": "markdown",
   "metadata": {},
   "source": [
    "# Default Perameter"
   ]
  },
  {
   "cell_type": "code",
   "execution_count": 17,
   "metadata": {},
   "outputs": [
    {
     "name": "stdout",
     "output_type": "stream",
     "text": [
      "I live in Shah Faisal.\n",
      "I have a Iphone.\n",
      "I have a Audi\n"
     ]
    }
   ],
   "source": [
    "def things(home,mobile='Huawei',car='Audi'):#if not found in list than by default it will print assigned values\n",
    "    print(f\"I live in {home}.\")\n",
    "    print(f\"I have a {mobile}.\")\n",
    "    print(f\"I have a {car}\")\n",
    "things(\"Shah Faisal\", \"Iphone\")"
   ]
  },
  {
   "cell_type": "code",
   "execution_count": 19,
   "metadata": {},
   "outputs": [
    {
     "name": "stdout",
     "output_type": "stream",
     "text": [
      "2 3 4\n"
     ]
    }
   ],
   "source": [
    "def fun1(a,b,c=0):\n",
    "    print(a,b,c)\n",
    "fun1(2,3,4)"
   ]
  },
  {
   "cell_type": "code",
   "execution_count": 20,
   "metadata": {},
   "outputs": [
    {
     "name": "stdout",
     "output_type": "stream",
     "text": [
      "2 3 0\n"
     ]
    }
   ],
   "source": [
    "fun1(2,3)"
   ]
  },
  {
   "cell_type": "code",
   "execution_count": 21,
   "metadata": {},
   "outputs": [
    {
     "name": "stdout",
     "output_type": "stream",
     "text": [
      "2 3 (4,)\n"
     ]
    }
   ],
   "source": [
    "def fun1(a,b,*c):#works as a tuple\n",
    "    print(a,b,c)\n",
    "fun1(2,3,4)"
   ]
  },
  {
   "cell_type": "code",
   "execution_count": 22,
   "metadata": {},
   "outputs": [
    {
     "name": "stdout",
     "output_type": "stream",
     "text": [
      "2 3 (4, 5, 6, 7, 8, 9)\n"
     ]
    }
   ],
   "source": [
    "fun1(2,3,4,5,6,7,8,9)"
   ]
  },
  {
   "cell_type": "code",
   "execution_count": 44,
   "metadata": {},
   "outputs": [
    {
     "name": "stdout",
     "output_type": "stream",
     "text": [
      "Fasih   Shaikh\n"
     ]
    }
   ],
   "source": [
    "def form(first_n,last_n, middle_n=\" \"):\n",
    "    if middle_n:\n",
    "        full_name=first_n+' '+middle_n+' '+last_n\n",
    "    else:\n",
    "        full_name=first_n+\" \"+ last_n\n",
    "    return full_name\n",
    "a1 = form('Fasih','Shaikh',)\n",
    "print(a1)"
   ]
  },
  {
   "cell_type": "markdown",
   "metadata": {},
   "source": [
    "# Using functions as variables (which is what they really are)"
   ]
  },
  {
   "cell_type": "code",
   "execution_count": 45,
   "metadata": {},
   "outputs": [],
   "source": [
    "def commission(commission):\n",
    "    return commission\n",
    "def basic(basic):\n",
    "    return basic"
   ]
  },
  {
   "cell_type": "code",
   "execution_count": 47,
   "metadata": {},
   "outputs": [
    {
     "name": "stdout",
     "output_type": "stream",
     "text": [
      "11000\n"
     ]
    }
   ],
   "source": [
    "gross=commission(1000)+basic(10000)\n",
    "print(gross)"
   ]
  },
  {
   "cell_type": "code",
   "execution_count": 50,
   "metadata": {},
   "outputs": [
    {
     "name": "stdout",
     "output_type": "stream",
     "text": [
      "The total paid amount is 13500.0\n"
     ]
    }
   ],
   "source": [
    "totalpay=0\n",
    "def commissionCalc(salesValue):\n",
    "    if salesValue>10000:\n",
    "        percent=10  #Local variable\n",
    "        commission=salesValue/100*percent\n",
    "        return commission\n",
    "def paid(basic):\n",
    "    totalpay=basic+commissionCalc(15000)\n",
    "    return totalpay\n",
    "print(f\"The total paid amount is {paid(12000)}\")"
   ]
  },
  {
   "cell_type": "markdown",
   "metadata": {},
   "source": [
    "# While Loops"
   ]
  },
  {
   "cell_type": "code",
   "execution_count": 52,
   "metadata": {},
   "outputs": [
    {
     "name": "stdout",
     "output_type": "stream",
     "text": [
      "1 a chota hy 10 se\n",
      "2 a chota hy 10 se\n",
      "3 a chota hy 10 se\n",
      "4 a chota hy 10 se\n",
      "5 a chota hy 10 se\n",
      "6 a chota hy 10 se\n",
      "7 a chota hy 10 se\n",
      "8 a chota hy 10 se\n",
      "9 a chota hy 10 se\n"
     ]
    }
   ],
   "source": [
    "a=1\n",
    "while a<10:\n",
    "    print(a,\"a chota hy 10 se\")\n",
    "    a+=1"
   ]
  },
  {
   "cell_type": "code",
   "execution_count": 53,
   "metadata": {},
   "outputs": [
    {
     "name": "stdout",
     "output_type": "stream",
     "text": [
      "1 a chota hy 10 se\n",
      "2 a chota hy 10 se\n",
      "3 a chota hy 10 se\n",
      "4 a chota hy 10 se\n",
      "5 a chota hy 10 se\n",
      "6 a chota hy 10 se\n",
      "7 a chota hy 10 se\n",
      "8 a chota hy 10 se\n",
      "9 a chota hy 10 se\n"
     ]
    }
   ],
   "source": [
    "for a in range(1,10):\n",
    "    print(a,\"a chota hy 10 se\")"
   ]
  },
  {
   "cell_type": "code",
   "execution_count": 54,
   "metadata": {},
   "outputs": [
    {
     "name": "stdout",
     "output_type": "stream",
     "text": [
      "What is you name: fasih\n",
      "Welcome to class fasih\n"
     ]
    }
   ],
   "source": [
    "name = input(\"What is you name: \")\n",
    "print(f\"Welcome to class {name}\")"
   ]
  },
  {
   "cell_type": "code",
   "execution_count": 60,
   "metadata": {},
   "outputs": [
    {
     "name": "stdout",
     "output_type": "stream",
     "text": [
      "What is you name: a\n",
      "Welcome to class a\n",
      "What is you name: s\n",
      "Welcome to class s\n",
      "What is you name: s\n",
      "Welcome to class s\n",
      "What is you name: s\n",
      "Welcome to class s\n",
      "What is you name: s\n",
      "Welcome to class s\n",
      "What is you name: s\n",
      "Welcome to class s\n",
      "What is you name: s\n",
      "Welcome to class s\n",
      "What is you name: s\n",
      "Welcome to class s\n",
      "What is you name: s\n",
      "Welcome to class s\n",
      "What is you name: s\n",
      "Welcome to class s\n"
     ]
    }
   ],
   "source": [
    "for a in range (10):\n",
    "    name = input(\"What is you name: \")\n",
    "    print(f\"Welcome to class {name}\")"
   ]
  },
  {
   "cell_type": "code",
   "execution_count": null,
   "metadata": {},
   "outputs": [
    {
     "name": "stdout",
     "output_type": "stream",
     "text": [
      "What is you name: a\n",
      "Welcome to class a\n",
      "What is you name: a\n",
      "Welcome to class a\n",
      "What is you name: a\n",
      "Welcome to class a\n",
      "What is you name: a\n",
      "Welcome to class a\n",
      "What is you name: s\n",
      "Welcome to class s\n",
      "What is you name: s\n",
      "Welcome to class s\n",
      "What is you name: \n",
      "Welcome to class \n",
      "What is you name: \n",
      "Welcome to class \n",
      "What is you name: \n"
     ]
    }
   ],
   "source": [
    "# now implementing the same function with the help of WHILE LOOP\n",
    "flag = True\n",
    "while flag:\n",
    "    name = input(\"What is you name: \")\n",
    "    print(f\"Welcome to class {name}\")\n",
    "    if name == \"exit\":\n",
    "        flag=False"
   ]
  },
  {
   "cell_type": "code",
   "execution_count": null,
   "metadata": {},
   "outputs": [],
   "source": []
  }
 ],
 "metadata": {
  "kernelspec": {
   "display_name": "Python 3",
   "language": "python",
   "name": "python3"
  },
  "language_info": {
   "codemirror_mode": {
    "name": "ipython",
    "version": 3
   },
   "file_extension": ".py",
   "mimetype": "text/x-python",
   "name": "python",
   "nbconvert_exporter": "python",
   "pygments_lexer": "ipython3",
   "version": "3.7.3"
  }
 },
 "nbformat": 4,
 "nbformat_minor": 2
}
