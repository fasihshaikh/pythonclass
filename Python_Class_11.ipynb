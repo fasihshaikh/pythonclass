{
 "cells": [
  {
   "cell_type": "markdown",
   "metadata": {},
   "source": [
    "## Inheritance\n",
    "You don’t always have to start from scratch when writing a class. If the class you’re writing is a specialized version of another class you wrote, you can use inheritance. When one class inherits from another, it automatically takes on all the attributes and methods of the first class. The original class is called the parent class, and the new class is the child class. The child class inherits every attribute and method from its parent class but is also free to define new attributes and methods of its own."
   ]
  },
  {
   "cell_type": "code",
   "execution_count": 1,
   "metadata": {},
   "outputs": [],
   "source": [
    "#Code reuse ability"
   ]
  },
  {
   "cell_type": "code",
   "execution_count": 21,
   "metadata": {},
   "outputs": [],
   "source": [
    "class Car():\n",
    "    def __init__(self, make, model, year):\n",
    "        #Initialize attributes to describe a car.\n",
    "        self.make = make\n",
    "        self.model = model\n",
    "        self.year = year \n",
    "        self.odometerReading=0 #This attribute is not mandatory for instance creation\n",
    "    def setOdometerReading(self,newReading):\n",
    "        self.odometerReading=newReading\n",
    "    def getOdometerReading(self):\n",
    "        print(f\"current odometer reading is {self.odometerReading}\")\n",
    "    def get_descriptive_name(self):\n",
    "        #Return a neatly formatted descriptive name.\n",
    "        long_name = str(self.year) + ' ' + self.make + ' ' + self.model +' '+self.engine\n",
    "        return long_name.title()\n",
    "    def getFuelTankCapacity(self):\n",
    "        print(\"Car has 100 litre tank\")"
   ]
  },
  {
   "cell_type": "code",
   "execution_count": 38,
   "metadata": {},
   "outputs": [],
   "source": [
    "class ElectricCar(Car):#ElectricCar Class inherited from CAR class\n",
    "    pass        \n",
    "eCar1 = ElectricCar(\"Hondai\",\"Rebond\",2018)"
   ]
  },
  {
   "cell_type": "code",
   "execution_count": 39,
   "metadata": {},
   "outputs": [],
   "source": [
    "class ElectricCar(Car):#ElectricCar Class inherited from CAR class\n",
    "    def __init__(self,make,model,year):\n",
    "        super().__init__(make,model,year)\n",
    "        self.battery=100\n",
    "        self.engine=\"2000CC\"\n",
    "        self.software=\"Android\"\n",
    "        \n",
    "    def getBatterySize(self):\n",
    "        print(f\"The electricCar battery size is {self.battery}\")\n",
    "        \n",
    "    def setBatterSize(self,newBatterySize):\n",
    "        self.battery=newBatterySize\n",
    "    def getFuelTankCapacity(self):\n",
    "        print(\"ElectricCar doesn't have fuel tank\")\n",
    "eCar1 = ElectricCar(\"Hondai\",\"Rebond\",2018)"
   ]
  },
  {
   "cell_type": "code",
   "execution_count": 40,
   "metadata": {},
   "outputs": [
    {
     "data": {
      "text/plain": [
       "'2018 Hondai Rebond 2000Cc'"
      ]
     },
     "execution_count": 40,
     "metadata": {},
     "output_type": "execute_result"
    }
   ],
   "source": [
    "eCar1.get_descriptive_name()"
   ]
  },
  {
   "cell_type": "code",
   "execution_count": 41,
   "metadata": {},
   "outputs": [
    {
     "name": "stdout",
     "output_type": "stream",
     "text": [
      "current odometer reading is 0\n"
     ]
    }
   ],
   "source": [
    "eCar1.getOdometerReading()"
   ]
  },
  {
   "cell_type": "code",
   "execution_count": 42,
   "metadata": {},
   "outputs": [],
   "source": [
    "eCar1.setOdometerReading(45)"
   ]
  },
  {
   "cell_type": "code",
   "execution_count": 43,
   "metadata": {},
   "outputs": [
    {
     "name": "stdout",
     "output_type": "stream",
     "text": [
      "current odometer reading is 45\n"
     ]
    }
   ],
   "source": [
    "eCar1.getOdometerReading()"
   ]
  },
  {
   "cell_type": "code",
   "execution_count": 44,
   "metadata": {},
   "outputs": [
    {
     "name": "stdout",
     "output_type": "stream",
     "text": [
      "The electricCar battery size is 100\n"
     ]
    }
   ],
   "source": [
    "eCar1.getBatterySize()\n",
    "eCar1.setBatterSize(500)"
   ]
  },
  {
   "cell_type": "code",
   "execution_count": 45,
   "metadata": {},
   "outputs": [
    {
     "name": "stdout",
     "output_type": "stream",
     "text": [
      "The electricCar battery size is 500\n"
     ]
    }
   ],
   "source": [
    "eCar1.getBatterySize()"
   ]
  },
  {
   "cell_type": "code",
   "execution_count": 46,
   "metadata": {},
   "outputs": [
    {
     "name": "stdout",
     "output_type": "stream",
     "text": [
      "ElectricCar doesn't have fuel tank\n"
     ]
    }
   ],
   "source": [
    "eCar1.getFuelTankCapacity()"
   ]
  },
  {
   "cell_type": "code",
   "execution_count": null,
   "metadata": {},
   "outputs": [],
   "source": []
  }
 ],
 "metadata": {
  "kernelspec": {
   "display_name": "Python 3",
   "language": "python",
   "name": "python3"
  },
  "language_info": {
   "codemirror_mode": {
    "name": "ipython",
    "version": 3
   },
   "file_extension": ".py",
   "mimetype": "text/x-python",
   "name": "python",
   "nbconvert_exporter": "python",
   "pygments_lexer": "ipython3",
   "version": "3.7.3"
  }
 },
 "nbformat": 4,
 "nbformat_minor": 2
}
