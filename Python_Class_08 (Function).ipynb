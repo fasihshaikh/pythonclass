{
 "cells": [
  {
   "cell_type": "markdown",
   "metadata": {},
   "source": [
    "# Function"
   ]
  },
  {
   "cell_type": "code",
   "execution_count": 1,
   "metadata": {},
   "outputs": [
    {
     "name": "stdout",
     "output_type": "stream",
     "text": [
      "17\n"
     ]
    }
   ],
   "source": [
    "def cal(a,b):\n",
    "    c=a+b\n",
    "    print(c)\n",
    "cal(9,8)"
   ]
  },
  {
   "cell_type": "code",
   "execution_count": 2,
   "metadata": {},
   "outputs": [
    {
     "name": "stdout",
     "output_type": "stream",
     "text": [
      "15\n"
     ]
    }
   ],
   "source": [
    "def cal1(a,b):\n",
    "    c1=a+b\n",
    "    return c1\n",
    "a1 = cal1(9,6)\n",
    "print(a1)"
   ]
  },
  {
   "cell_type": "code",
   "execution_count": 7,
   "metadata": {},
   "outputs": [
    {
     "name": "stdout",
     "output_type": "stream",
     "text": [
      "Hello umer\n",
      "Hello hamza\n",
      "Hello azhar\n"
     ]
    }
   ],
   "source": [
    "def name1(friends):\n",
    "    for friend in friends:\n",
    "        a=(f\"Hello {friend}\")\n",
    "        print(a)\n",
    "name1 (['umer','hamza','azhar'])"
   ]
  },
  {
   "cell_type": "code",
   "execution_count": 9,
   "metadata": {},
   "outputs": [
    {
     "name": "stdout",
     "output_type": "stream",
     "text": [
      "Hello umer\n",
      "Hello hamza\n",
      "Hello azhar\n"
     ]
    }
   ],
   "source": [
    "def name1(friends):\n",
    "    for friend in friends:\n",
    "        a=\"Hello \" + friend\n",
    "        print(a)\n",
    "name1 (['umer','hamza','azhar'])"
   ]
  },
  {
   "cell_type": "markdown",
   "metadata": {},
   "source": [
    "# KEYWORD PERAMETER"
   ]
  },
  {
   "cell_type": "code",
   "execution_count": 12,
   "metadata": {},
   "outputs": [
    {
     "name": "stdout",
     "output_type": "stream",
     "text": [
      "My name is Moiz and my father name is Shahzad\n"
     ]
    }
   ],
   "source": [
    "def family(my_name,f_name):\n",
    "    print(f\"My name is {my_name} and my father name is {f_name}\")\n",
    "family('Moiz' ,\"Shahzad\") # first value is father name , second value is my name"
   ]
  },
  {
   "cell_type": "code",
   "execution_count": 13,
   "metadata": {},
   "outputs": [
    {
     "name": "stdout",
     "output_type": "stream",
     "text": [
      "My name is Shahzad and my father name is Moiz\n"
     ]
    }
   ],
   "source": [
    "#keyword argument applied\n",
    "def family(my_name,f_name):\n",
    "    print(f\"My name is {my_name} and my father name is {f_name}\")\n",
    "family(f_name='Moiz' ,my_name=\"Shahzad\")"
   ]
  },
  {
   "cell_type": "code",
   "execution_count": null,
   "metadata": {},
   "outputs": [],
   "source": [
    "def myfunc(name,age,gender):\n",
    "    print(f\"My name is {name}, my age is {age} and i am a {gender} \")\n",
    "myfunc(name=\"Fasih\",age=)"
   ]
  }
 ],
 "metadata": {
  "kernelspec": {
   "display_name": "Python 3",
   "language": "python",
   "name": "python3"
  },
  "language_info": {
   "codemirror_mode": {
    "name": "ipython",
    "version": 3
   },
   "file_extension": ".py",
   "mimetype": "text/x-python",
   "name": "python",
   "nbconvert_exporter": "python",
   "pygments_lexer": "ipython3",
   "version": "3.7.3"
  }
 },
 "nbformat": 4,
 "nbformat_minor": 2
}
