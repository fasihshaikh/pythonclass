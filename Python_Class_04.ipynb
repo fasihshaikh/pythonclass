{
 "cells": [
  {
   "cell_type": "markdown",
   "metadata": {},
   "source": [
    "# Nested Loop"
   ]
  },
  {
   "cell_type": "code",
   "execution_count": 15,
   "metadata": {},
   "outputs": [
    {
     "name": "stdout",
     "output_type": "stream",
     "text": [
      "Do you have CNIC? = yes\n",
      "He has valid CNIC\n",
      "Is your name in the list? = yes\n",
      "You are a registered voter\n",
      "You can cast vote\n"
     ]
    }
   ],
   "source": [
    "##Nested Loop\n",
    "user_cnic = (input(\"Do you have CNIC? = \").lower()) # .lower() Used to get lower case input from user\n",
    "if user_cnic == 'yes':\n",
    "    print(\"He has valid CNIC\") \n",
    "    voter_list = (input(\"Is your name in the list? = \").lower())\n",
    "    if voter_list == 'yes':\n",
    "        print (\"You are a registered voter\")\n",
    "        print (\"You can cast vote\")\n",
    "    else:\n",
    "        print (\"You cannot cast vote\")\n",
    "else:\n",
    "    print(\"You cannot cast vote\")"
   ]
  },
  {
   "cell_type": "code",
   "execution_count": 25,
   "metadata": {},
   "outputs": [
    {
     "name": "stdout",
     "output_type": "stream",
     "text": [
      "What is you age ?18\n",
      "Age is OK!\n",
      "Do you have a movie ticket ? no\n",
      "You dont have movie ticket go back\n"
     ]
    }
   ],
   "source": [
    "user_age = int(input(\"What is you age ?\"))\n",
    "if user_age >17:\n",
    "    print(\"Age is OK!\")\n",
    "    ticket = (input(\"Do you have a movie ticket ? \").lower())\n",
    "    if ticket == \"yes\":\n",
    "        print (\"You can enter in the movie theater\")\n",
    "    else:\n",
    "        print (\"You dont have movie ticket go back\")\n",
    "else:\n",
    "    print (\"You are too young to watch movie\")\n",
    "        "
   ]
  },
  {
   "cell_type": "code",
   "execution_count": null,
   "metadata": {},
   "outputs": [],
   "source": [
    "num1 = int(input(\"Enter First Number\"))\n",
    "num2 = int(input(\"Enter Second Number\"))\n",
    "if num1>num2:\n",
    "    print(f\"{num1} is greater than {num2}\")\n",
    "elif num1==num2:\n",
    "        print(f\"{num1} is euqal to {num2}\")\n",
    "elif num1<num2:\n",
    "        print(f\"{num1} is less than {num2}\")\n",
    "else:\n",
    "    print(\"Uffffffffff\")"
   ]
  },
  {
   "cell_type": "code",
   "execution_count": 11,
   "metadata": {},
   "outputs": [
    {
     "name": "stdout",
     "output_type": "stream",
     "text": [
      "Do you have CNIC? = yes\n",
      "Is your name in the list? = yes\n",
      "Allowed to cast\n"
     ]
    },
    {
     "data": {
      "text/plain": [
       "'signle quote used for multiple line comment and comments will be visible on result as well\\n\\n'"
      ]
     },
     "execution_count": 11,
     "metadata": {},
     "output_type": "execute_result"
    }
   ],
   "source": [
    "user_cnic = (input(\"Do you have CNIC? = \").lower())\n",
    "voter_list = (input(\"Is your name in the list? = \").lower())\n",
    "if user_cnic=='yes' and voter_list=='yes': \n",
    "    print(\"Allowed to cast\")\n",
    "    \n",
    "else:\n",
    "    print(\"Not allowed\")\n",
    "# # Hash used for single line comment\n",
    "'''signle quote used for multiple line comment and comments will be visible on result as well\n",
    "\n",
    "'''"
   ]
  },
  {
   "cell_type": "code",
   "execution_count": null,
   "metadata": {},
   "outputs": [],
   "source": []
  }
 ],
 "metadata": {
  "kernelspec": {
   "display_name": "Python 3",
   "language": "python",
   "name": "python3"
  },
  "language_info": {
   "codemirror_mode": {
    "name": "ipython",
    "version": 3
   },
   "file_extension": ".py",
   "mimetype": "text/x-python",
   "name": "python",
   "nbconvert_exporter": "python",
   "pygments_lexer": "ipython3",
   "version": "3.7.3"
  }
 },
 "nbformat": 4,
 "nbformat_minor": 2
}
